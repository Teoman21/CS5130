{
 "cells": [
  {
   "cell_type": "markdown",
   "id": "4d494f92",
   "metadata": {},
   "source": [
    "# Lab 4: SOLID Principles in Python\n",
    "**Author:** Teoman Kaman\n",
    "**Date:** 21 Oct\n",
    "\n",
    "This notebook demonstrates the five SOLID principles with both good and bad examples for each principle."
   ]
  },
  {
   "cell_type": "markdown",
   "id": "a45c01d3",
   "metadata": {},
   "source": [
    "## S - Single Responsibility Principle (SRP)\n",
    "\n",
    "**Explanation:** SRP is class need to be atomic in the context of one class needs to serve one purpose; one responsibility per class. \n",
    "\n",
    "**Why it matters:** It is important because if one class has multiple responsibility then it is harder to maintain. As well as when class is SRP it is easier to write unit tests. \n",
    "\n",
    "### Bad Example - Violates SRP"
   ]
  },
  {
   "cell_type": "code",
   "execution_count": 9,
   "id": "693e19b0",
   "metadata": {},
   "outputs": [
    {
     "name": "stdout",
     "output_type": "stream",
     "text": [
      "UserManagerBad Example:\n",
      "Sending promo email to johndoe@gmail.com\n",
      "{'john_doe': ('123456789', 'johndoe@gmail.com')}\n",
      "['User created: john_doe']\n",
      "Sending promo email to johndoe@gmail.com\n"
     ]
    }
   ],
   "source": [
    "class UserManagerBad:\n",
    "    \"\"\"This class violates SRP by handling multiple responsibilities.\"\"\"\n",
    "    \n",
    "    def __init__(self):\n",
    "        self.users = {}          # persistence responsibility\n",
    "        self.audit_log = []      # logging responsibility\n",
    "\n",
    "    def add_user(self, username, password, email):\n",
    "        if len(password) < 8:                 # validation/auth responsibility\n",
    "            raise ValueError(\"Weak password\")\n",
    "        self.users[username] = (password, email)\n",
    "        self.log_activity(f\"User created: {username}\")\n",
    "        self.send_email(email)\n",
    "\n",
    "    def log_activity(self, message):\n",
    "        self.audit_log.append(message)        # logging/auditing responsibility\n",
    "\n",
    "    def send_email(self, email):\n",
    "        print(f\"Sending promo email to {email}\")  # notification responsibility\n",
    "        \n",
    "        \n",
    "print(\"UserManagerBad Example:\")\n",
    "bad_manager = UserManagerBad()\n",
    "\n",
    "# add_user exercises validation, persistence, logging, and triggers email send\n",
    "bad_manager.add_user(\"john_doe\", \"123456789\", \"johndoe@gmail.com\")\n",
    "\n",
    "# confirm the “database” and audit log side effects\n",
    "print(bad_manager.users)\n",
    "print(bad_manager.audit_log)\n",
    "\n",
    "# call auxiliary methods directly to show they’re baked into the same class\n",
    "bad_manager.log_activity(\"Manual audit entry\")\n",
    "bad_manager.send_email(\"johndoe@gmail.com\")"
   ]
  },
  {
   "cell_type": "markdown",
   "id": "d9b6e7c2",
   "metadata": {},
   "source": [
    "**What's wrong with this approach:**\n",
    "- In one class there is adding user logging activity and sending email those three actions are unrelated thus this class has 3 responsibility instead of 1\n",
    "-  responsibilites are password checking, audit logging, email output\n",
    "- When a email format changes or another part; because of changes it can break other features as well. Thus it makes it harder to maintain because the other functions could have dependency. \n",
    "\n",
    "### Good Example - Follows SRP"
   ]
  },
  {
   "cell_type": "code",
   "execution_count": 11,
   "id": "c7e8afba",
   "metadata": {},
   "outputs": [
    {
     "name": "stdout",
     "output_type": "stream",
     "text": [
      "Sending welcome email to jane@example.com\n",
      "{'password': 'securepass', 'email': 'jane@example.com'}\n",
      "Sending welcome email to adam@example.com\n"
     ]
    }
   ],
   "source": [
    "class UserManagerGood:\n",
    "    \"\"\"Handles user lifecycle only; delegates emails elsewhere.\"\"\"\n",
    "    def __init__(self, email_service):\n",
    "        self.email_service = email_service\n",
    "        self.users = {}\n",
    "\n",
    "    def add_user(self, username, password, email):\n",
    "        if len(password) < 8:\n",
    "            raise ValueError(\"Weak password\")\n",
    "        self.users[username] = {\"password\": password, \"email\": email}\n",
    "        self.email_service.send_email(email)\n",
    "\n",
    "    def get_user(self, username):\n",
    "        return self.users.get(username)\n",
    "\n",
    "\n",
    "class EmailService:\n",
    "    \"\"\"Owns all outbound email behavior.\"\"\"\n",
    "    def send_email(self, email):\n",
    "        print(f\"Sending welcome email to {email}\")\n",
    "\n",
    "\n",
    "email_service = EmailService()\n",
    "good_manager = UserManagerGood(email_service)\n",
    "\n",
    "good_manager.add_user(\"jane_doe\", \"securepass\", \"jane@example.com\")\n",
    "print(good_manager.get_user(\"jane_doe\"))\n",
    "# {'password': 'securepass', 'email': 'jane@example.com'}\n",
    "\n",
    "good_manager.add_user(\"adam_smith\", \"anotherpw\", \"adam@example.com\")\n"
   ]
  },
  {
   "cell_type": "markdown",
   "id": "d63c5300",
   "metadata": {},
   "source": [
    "**Why this is better:**\n",
    "- The two classes we have now is atomic meaning that they have only one responsiblity\n",
    "-  UserManagerGood handles the adding and getting user so its just user rules. While EmailService class only takes care of sending email to the user\n",
    "- Any rule change in classes won't affect each other because we will change the class with that responsiblity thus it makes less risk of breaking other features. "
   ]
  },
  {
   "cell_type": "markdown",
   "id": "aeb8b94f",
   "metadata": {},
   "source": [
    "## O - Open/Closed Principle (OCP)\n",
    "\n",
    "**Explanation:** It means that classes, functions, modules should be open for extension but closed for modification. \n",
    "\n",
    "**Why it matters:** It matters because when the code is live we dont want to keep editing classes every time new feature needs to be implemented extending instead of modfying reduces bugs as well. Also OCP lets mutliple features evlopve in parallel without depending on each other\n",
    "\n",
    "### Bad Example - Violates OCP"
   ]
  },
  {
   "cell_type": "code",
   "execution_count": 14,
   "id": "7e9af35d",
   "metadata": {},
   "outputs": [
    {
     "name": "stdout",
     "output_type": "stream",
     "text": [
      "UserManagerBad Example:\n",
      "Welcome email to john@example.com\n",
      "Welcome SMS to jane_doe\n",
      "{'john_doe': 'john@example.com', 'jane_doe': 'jane@example.com'}\n"
     ]
    }
   ],
   "source": [
    "class UserManagerBad:\n",
    "    \"\"\"Violates OCP: every new notification mode requires editing this method.\"\"\"\n",
    "    \n",
    "    def __init__(self):\n",
    "        self.users = {}\n",
    "\n",
    "    def add_user(self, username, email, notification):\n",
    "        self.users[username] = email\n",
    "        if notification == \"email\":\n",
    "            print(f\"Welcome email to {email}\")\n",
    "        elif notification == \"sms\":\n",
    "            print(f\"Welcome SMS to {username}\")\n",
    "        # Adding push, in-app, etc. means touching this method again.\n",
    "\n",
    "print(\"UserManagerBad Example:\")\n",
    "bad_manager = UserManagerBad()\n",
    "bad_manager.add_user(\"john_doe\", \"john@example.com\", \"email\")\n",
    "bad_manager.add_user(\"jane_doe\", \"jane@example.com\", \"sms\")\n",
    "print(bad_manager.users)\n"
   ]
  },
  {
   "cell_type": "markdown",
   "id": "be89e0c1",
   "metadata": {},
   "source": [
    "**What's wrong with this approach:**\n",
    "- It is wrong because add_user function keeps growing as new notification type needs be done\n",
    "- add_user function both stores teh users and decides how each notification type should behave\n",
    "- It becomes hard to maintain because each new feature forces us to revisit and edit the same method again, increasing the chance of mistakes and making the logic more tangled over time.\n",
    "\n",
    "### Good Example - Follows OCP"
   ]
  },
  {
   "cell_type": "code",
   "execution_count": 15,
   "id": "11a0d89d",
   "metadata": {},
   "outputs": [
    {
     "name": "stdout",
     "output_type": "stream",
     "text": [
      "UserManagerGood Example:\n",
      "Welcome email → alice@example.com\n",
      "Welcome SMS → bob\n",
      "{'alice': 'alice@example.com'}\n",
      "{'bob': 'bob@example.com'}\n"
     ]
    }
   ],
   "source": [
    "class UserManagerGood:\n",
    "    \"\"\"Open for new notification behaviors, closed for code changes.\"\"\"\n",
    "    \n",
    "    def __init__(self, notifier):\n",
    "        self.users = {}\n",
    "        self.notifier = notifier   # plug in any notifier you need\n",
    "\n",
    "    def add_user(self, username, email):\n",
    "        self.users[username] = email\n",
    "        self.notifier.notify(username, email)\n",
    "\n",
    "\n",
    "class EmailNotifier:\n",
    "    def notify(self, username, email):\n",
    "        print(f\"Welcome email → {email}\")\n",
    "\n",
    "\n",
    "class SmsNotifier:\n",
    "    def notify(self, username, email):\n",
    "        print(f\"Welcome SMS → {username}\")\n",
    "\n",
    "\n",
    "print(\"UserManagerGood Example:\")\n",
    "email_manager = UserManagerGood(EmailNotifier())\n",
    "email_manager.add_user(\"alice\", \"alice@example.com\")\n",
    "\n",
    "sms_manager = UserManagerGood(SmsNotifier())\n",
    "sms_manager.add_user(\"bob\", \"bob@example.com\")\n",
    "\n",
    "print(email_manager.users)\n",
    "print(sms_manager.users)\n"
   ]
  },
  {
   "cell_type": "markdown",
   "id": "32bb3279",
   "metadata": {},
   "source": [
    "**Why this is better:**\n",
    "- In this way the class keeps growing in new notifying methods so we extend the class but we dont modify the existing function. This lowers the risk of breaking what already was working\n",
    "- The manager owns user registration while each notifier class represent each notifying type. That clear division keeps the logic focused and easier to understand.\n",
    "- When new notification type arrive as new class the other classes stay stable. When requirements change we just swap or update the corresponding notifier class without rewriting user management codes\n"
   ]
  },
  {
   "cell_type": "markdown",
   "id": "e599c278",
   "metadata": {},
   "source": [
    "## L - Liskov Substitution Principle (LSP)\n",
    "\n",
    "**Explanation:** A subclass should be able replace its parents class without changing the correctness so it inherits the attributes of the parent class without changing the correctness\n",
    "\n",
    "**Why it matters:** This ensures the reliability in inheritence so that nothing suprises us when class inherits parent class. It makes the code predictable and makes it easier to find bugs\n",
    "\n",
    "### Bad Example - Violates LSP"
   ]
  },
  {
   "cell_type": "code",
   "execution_count": 17,
   "id": "1f1c9a14",
   "metadata": {},
   "outputs": [
    {
     "name": "stdout",
     "output_type": "stream",
     "text": [
      "LSP Violation Demo:\n",
      "User alice created\n",
      "Welcome flow triggered.\n"
     ]
    },
    {
     "ename": "PermissionError",
     "evalue": "Read-only manager cannot add users",
     "output_type": "error",
     "traceback": [
      "\u001b[0;31m---------------------------------------------------------------------------\u001b[0m",
      "\u001b[0;31mPermissionError\u001b[0m                           Traceback (most recent call last)",
      "Cell \u001b[0;32mIn[17], line 27\u001b[0m\n\u001b[1;32m     24\u001b[0m         \u001b[38;5;28mprint\u001b[39m(\u001b[38;5;124m\"\u001b[39m\u001b[38;5;124mWelcome flow triggered.\u001b[39m\u001b[38;5;124m\"\u001b[39m)\n\u001b[1;32m     26\u001b[0m onboard(manager, \u001b[38;5;124m\"\u001b[39m\u001b[38;5;124malice\u001b[39m\u001b[38;5;124m\"\u001b[39m)\n\u001b[0;32m---> 27\u001b[0m \u001b[43monboard\u001b[49m\u001b[43m(\u001b[49m\u001b[43mreadonly_manager\u001b[49m\u001b[43m,\u001b[49m\u001b[43m \u001b[49m\u001b[38;5;124;43m\"\u001b[39;49m\u001b[38;5;124;43mbob\u001b[39;49m\u001b[38;5;124;43m\"\u001b[39;49m\u001b[43m)\u001b[49m\n",
      "Cell \u001b[0;32mIn[17], line 23\u001b[0m, in \u001b[0;36monboard\u001b[0;34m(user_manager, username)\u001b[0m\n\u001b[1;32m     21\u001b[0m \u001b[38;5;28;01mdef\u001b[39;00m \u001b[38;5;21monboard\u001b[39m(user_manager, username):\n\u001b[1;32m     22\u001b[0m     \u001b[38;5;66;03m# Works with UserManagerBad, but explodes with ReadOnlyUserManager.\u001b[39;00m\n\u001b[0;32m---> 23\u001b[0m     \u001b[38;5;28;01mif\u001b[39;00m \u001b[43muser_manager\u001b[49m\u001b[38;5;241;43m.\u001b[39;49m\u001b[43madd_user\u001b[49m\u001b[43m(\u001b[49m\u001b[43musername\u001b[49m\u001b[43m)\u001b[49m:\n\u001b[1;32m     24\u001b[0m         \u001b[38;5;28mprint\u001b[39m(\u001b[38;5;124m\"\u001b[39m\u001b[38;5;124mWelcome flow triggered.\u001b[39m\u001b[38;5;124m\"\u001b[39m)\n",
      "Cell \u001b[0;32mIn[17], line 14\u001b[0m, in \u001b[0;36mReadOnlyUserManager.add_user\u001b[0;34m(self, username)\u001b[0m\n\u001b[1;32m     12\u001b[0m \u001b[38;5;28;01mdef\u001b[39;00m \u001b[38;5;21madd_user\u001b[39m(\u001b[38;5;28mself\u001b[39m, username):\n\u001b[1;32m     13\u001b[0m     \u001b[38;5;66;03m# Abruptly rejects the operation, so code depending on True now crashes.\u001b[39;00m\n\u001b[0;32m---> 14\u001b[0m     \u001b[38;5;28;01mraise\u001b[39;00m \u001b[38;5;167;01mPermissionError\u001b[39;00m(\u001b[38;5;124m\"\u001b[39m\u001b[38;5;124mRead-only manager cannot add users\u001b[39m\u001b[38;5;124m\"\u001b[39m)\n",
      "\u001b[0;31mPermissionError\u001b[0m: Read-only manager cannot add users"
     ]
    }
   ],
   "source": [
    "class UserManagerBad:\n",
    "    \"\"\"Violates LSP: Subclass changes base class behavior unexpectedly.\"\"\"\n",
    "    \n",
    "    def add_user(self, username):\n",
    "        print(f\"User {username} created\")\n",
    "        return True  # callers expect a success flag\n",
    "\n",
    "\n",
    "class ReadOnlyUserManager(UserManagerBad):\n",
    "    \"\"\"Supposed to behave like UserManagerBad, but breaks the contract.\"\"\"\n",
    "    \n",
    "    def add_user(self, username):\n",
    "        # Abruptly rejects the operation, so code depending on True now crashes.\n",
    "        raise PermissionError(\"Read-only manager cannot add users\")\n",
    "\n",
    "\n",
    "print(\"LSP Violation Demo:\")\n",
    "manager = UserManagerBad()\n",
    "readonly_manager = ReadOnlyUserManager()\n",
    "\n",
    "def onboard(user_manager, username):\n",
    "    # Works with UserManagerBad, but explodes with ReadOnlyUserManager.\n",
    "    if user_manager.add_user(username):\n",
    "        print(\"Welcome flow triggered.\")\n",
    "\n",
    "onboard(manager, \"alice\")\n",
    "onboard(readonly_manager, \"bob\")\n"
   ]
  },
  {
   "cell_type": "markdown",
   "id": "56f06cb1",
   "metadata": {},
   "source": [
    "**What's wrong with this approach:**\n",
    "- ReadOnlyUserManager stops inheriting the base class promise that add_user returns a success flag, so any caller that expects the original behavior crashes. Because the subclass alters the contract instead of extending it you can’t safely substitute it for the base type.\n",
    "- The base class is responsible for creating users, while the subclass quietly adds access-control enforcement inside the same method. Those mixed responsibilities cause the subclass to block core behavior rather than extend it.\n",
    "- Every caller now needs custom guards or exception handling when a different subclass is injected, complicating the codebase. Future changes to onboarding must worry about which version of add_user they’re calling and how it might misbehave.\n",
    "\n",
    "### Good Example - Follows LSP\n"
   ]
  },
  {
   "cell_type": "code",
   "execution_count": 20,
   "id": "8a8f684f",
   "metadata": {},
   "outputs": [
    {
     "name": "stdout",
     "output_type": "stream",
     "text": [
      "Good example of LSP:\n",
      "User alice created\n",
      "Welcome flow triggered.\n",
      "User bob created\n",
      "Welcome flow triggered.\n",
      "['created bob']\n"
     ]
    }
   ],
   "source": [
    "class UserManagerGood:\n",
    "    \"\"\"Base behavior: create user and signal success.\"\"\"\n",
    "    \n",
    "    def add_user(self, username):\n",
    "        print(f\"User {username} created\")\n",
    "        return True\n",
    "\n",
    "\n",
    "class AuditingUserManager(UserManagerGood):\n",
    "    \"\"\"Extends base behavior without changing expectations.\"\"\"\n",
    "    \n",
    "    def __init__(self):\n",
    "        self.audit_log = []\n",
    "\n",
    "    def add_user(self, username):\n",
    "        result = super().add_user(username)  # still returns True\n",
    "        if result:\n",
    "            self.audit_log.append(f\"created {username}\")\n",
    "        return result\n",
    "\n",
    "\n",
    "print(\"Good example of LSP:\")\n",
    "manager = UserManagerGood()\n",
    "audited_manager = AuditingUserManager()\n",
    "\n",
    "def onboard(user_manager, username):\n",
    "    if user_manager.add_user(username):\n",
    "        print(\"Welcome flow triggered.\")\n",
    "\n",
    "onboard(manager, \"alice\")\n",
    "onboard(audited_manager, \"bob\")\n",
    "print(audited_manager.audit_log)\n"
   ]
  },
  {
   "cell_type": "markdown",
   "id": "dd1d1bc8",
   "metadata": {},
   "source": [
    "**Why this is better:**\n",
    "- This way the subclass correctly inherits the parent class and original behaviour thus existing features works same and we can reuse the existing code without surprises\n",
    "- UserManagerGood creates users, while AuditingUserManager adds tracking. Each class does its own job without stepping on the other.\n",
    "- Because logging lives in the auditing subclass and user creation stays in the base class, each change touches only one place. That makes updates simpler, lowers the risk of bugs, and lets developers add new subclasses without rewriting existing code.\n"
   ]
  },
  {
   "cell_type": "markdown",
   "id": "5ed16b9b",
   "metadata": {},
   "source": [
    "## I - Interface Segregation Principle (ISP)\n",
    "\n",
    "**Explanation:** ISP is a class should not contain methods its not going to use. We should implement functions that class will use and what actually needs\n",
    "\n",
    "**Why it matters:** It is important because it makes the class cleaner and more organized. Again it is easier to maintain and understand what class is doing. \n",
    "\n",
    "### Bad Example - Violates ISP\n"
   ]
  },
  {
   "cell_type": "code",
   "execution_count": null,
   "id": "94fe69a3",
   "metadata": {},
   "outputs": [
    {
     "name": "stdout",
     "output_type": "stream",
     "text": [
      "Email to user@example.com: Hi!\n"
     ]
    }
   ],
   "source": [
    "class UserNotifier:\n",
    "    \"\"\"Too many responsibilities baked into one interface.\"\"\"\n",
    "    def send_email(self, address, message):\n",
    "        raise NotImplementedError\n",
    "\n",
    "    def send_sms(self, phone, message):\n",
    "        raise NotImplementedError\n",
    "\n",
    "    def send_push(self, username, message):\n",
    "        raise NotImplementedError\n",
    "\n",
    "\n",
    "class EmailOnlyNotifier(UserNotifier):\n",
    "    \"\"\"Needs only email, but must stub everything else.\"\"\"\n",
    "    def send_email(self, address, message):\n",
    "        print(f\"Email to {address}: {message}\")\n",
    "\n",
    "    def send_sms(self, phone, message):\n",
    "        # Forced to supply meaningless implementation\n",
    "        raise NotImplementedError(\"This notifier cannot send SMS\")\n",
    "\n",
    "    def send_push(self, username, message):\n",
    "        raise NotImplementedError(\"This notifier cannot send push notifications\")\n",
    "\n",
    "\n",
    "notifier = EmailOnlyNotifier()\n",
    "notifier.send_email(\"user@example.com\", \"Hi!\")\n",
    "notifier.send_sms(\"123-456-7890\", \"Hello!\")  # blows up\n",
    "\n"
   ]
  },
  {
   "cell_type": "code",
   "execution_count": null,
   "id": "8c17b133",
   "metadata": {},
   "outputs": [],
   "source": []
  }
 ],
 "metadata": {
  "kernelspec": {
   "display_name": "Python 3",
   "language": "python",
   "name": "python3"
  },
  "language_info": {
   "codemirror_mode": {
    "name": "ipython",
    "version": 3
   },
   "file_extension": ".py",
   "mimetype": "text/x-python",
   "name": "python",
   "nbconvert_exporter": "python",
   "pygments_lexer": "ipython3",
   "version": "3.9.6"
  }
 },
 "nbformat": 4,
 "nbformat_minor": 5
}
